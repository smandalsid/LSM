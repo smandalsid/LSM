{
 "cells": [
  {
   "cell_type": "code",
   "execution_count": 172,
   "metadata": {},
   "outputs": [],
   "source": [
    "import pandas as pd\n",
    "import matplotlib.pyplot as plt"
   ]
  },
  {
   "cell_type": "code",
   "execution_count": 173,
   "metadata": {},
   "outputs": [],
   "source": [
    "q1=[]\n",
    "for i in range(362):\n",
    "    q1.append(\"No\")\n",
    "for i in range(138):\n",
    "    q1.append(\"Yes\")"
   ]
  },
  {
   "cell_type": "code",
   "execution_count": 174,
   "metadata": {},
   "outputs": [],
   "source": [
    "q2=[]\n",
    "for i in range(450):\n",
    "    q2.append(\"Yes\")\n",
    "for i in range(50):\n",
    "    q2.append(\"No\")"
   ]
  },
  {
   "cell_type": "code",
   "execution_count": 175,
   "metadata": {},
   "outputs": [],
   "source": [
    "q3=[]\n",
    "for i in range(339):\n",
    "    q3.append(\"Yes\")\n",
    "for i in range(161):\n",
    "    q3.append(\"No\")"
   ]
  },
  {
   "cell_type": "code",
   "execution_count": 176,
   "metadata": {},
   "outputs": [],
   "source": [
    "q4=[]\n",
    "for i in range(338):\n",
    "    q4.append(\"Yes\")\n",
    "for i in range(162):\n",
    "    q4.append(\"No\")"
   ]
  },
  {
   "cell_type": "code",
   "execution_count": 177,
   "metadata": {},
   "outputs": [],
   "source": [
    "q5=[]\n",
    "for i in range(469):\n",
    "    q5.append(\"Yes\")\n",
    "for i in range(31):\n",
    "    q5.append(\"No\")"
   ]
  },
  {
   "cell_type": "code",
   "execution_count": 178,
   "metadata": {},
   "outputs": [],
   "source": [
    "df=pd.DataFrame({'Use shuttle':q1, 'Hard to locate shuttle':q2, 'Get late waiting for shuttle':q3, 'Instant payment via wallet':q4, 'Use our product':q5, })"
   ]
  },
  {
   "cell_type": "code",
   "execution_count": 179,
   "metadata": {},
   "outputs": [
    {
     "data": {
      "text/html": [
       "<div>\n",
       "<style scoped>\n",
       "    .dataframe tbody tr th:only-of-type {\n",
       "        vertical-align: middle;\n",
       "    }\n",
       "\n",
       "    .dataframe tbody tr th {\n",
       "        vertical-align: top;\n",
       "    }\n",
       "\n",
       "    .dataframe thead th {\n",
       "        text-align: right;\n",
       "    }\n",
       "</style>\n",
       "<table border=\"1\" class=\"dataframe\">\n",
       "  <thead>\n",
       "    <tr style=\"text-align: right;\">\n",
       "      <th></th>\n",
       "      <th>Use shuttle</th>\n",
       "      <th>Hard to locate shuttle</th>\n",
       "      <th>Get late waiting for shuttle</th>\n",
       "      <th>Instant payment via wallet</th>\n",
       "      <th>Use our product</th>\n",
       "    </tr>\n",
       "  </thead>\n",
       "  <tbody>\n",
       "    <tr>\n",
       "      <th>0</th>\n",
       "      <td>No</td>\n",
       "      <td>Yes</td>\n",
       "      <td>Yes</td>\n",
       "      <td>Yes</td>\n",
       "      <td>Yes</td>\n",
       "    </tr>\n",
       "    <tr>\n",
       "      <th>1</th>\n",
       "      <td>No</td>\n",
       "      <td>Yes</td>\n",
       "      <td>Yes</td>\n",
       "      <td>Yes</td>\n",
       "      <td>Yes</td>\n",
       "    </tr>\n",
       "    <tr>\n",
       "      <th>2</th>\n",
       "      <td>No</td>\n",
       "      <td>Yes</td>\n",
       "      <td>Yes</td>\n",
       "      <td>Yes</td>\n",
       "      <td>Yes</td>\n",
       "    </tr>\n",
       "    <tr>\n",
       "      <th>3</th>\n",
       "      <td>No</td>\n",
       "      <td>Yes</td>\n",
       "      <td>Yes</td>\n",
       "      <td>Yes</td>\n",
       "      <td>Yes</td>\n",
       "    </tr>\n",
       "    <tr>\n",
       "      <th>4</th>\n",
       "      <td>No</td>\n",
       "      <td>Yes</td>\n",
       "      <td>Yes</td>\n",
       "      <td>Yes</td>\n",
       "      <td>Yes</td>\n",
       "    </tr>\n",
       "  </tbody>\n",
       "</table>\n",
       "</div>"
      ],
      "text/plain": [
       "  Use shuttle Hard to locate shuttle Get late waiting for shuttle  \\\n",
       "0          No                    Yes                          Yes   \n",
       "1          No                    Yes                          Yes   \n",
       "2          No                    Yes                          Yes   \n",
       "3          No                    Yes                          Yes   \n",
       "4          No                    Yes                          Yes   \n",
       "\n",
       "  Instant payment via wallet Use our product  \n",
       "0                        Yes             Yes  \n",
       "1                        Yes             Yes  \n",
       "2                        Yes             Yes  \n",
       "3                        Yes             Yes  \n",
       "4                        Yes             Yes  "
      ]
     },
     "execution_count": 179,
     "metadata": {},
     "output_type": "execute_result"
    }
   ],
   "source": [
    "df.head()"
   ]
  },
  {
   "cell_type": "code",
   "execution_count": 180,
   "metadata": {},
   "outputs": [
    {
     "data": {
      "text/html": [
       "<div>\n",
       "<style scoped>\n",
       "    .dataframe tbody tr th:only-of-type {\n",
       "        vertical-align: middle;\n",
       "    }\n",
       "\n",
       "    .dataframe tbody tr th {\n",
       "        vertical-align: top;\n",
       "    }\n",
       "\n",
       "    .dataframe thead th {\n",
       "        text-align: right;\n",
       "    }\n",
       "</style>\n",
       "<table border=\"1\" class=\"dataframe\">\n",
       "  <thead>\n",
       "    <tr style=\"text-align: right;\">\n",
       "      <th></th>\n",
       "      <th>Use shuttle</th>\n",
       "      <th>Hard to locate shuttle</th>\n",
       "      <th>Get late waiting for shuttle</th>\n",
       "      <th>Instant payment via wallet</th>\n",
       "      <th>Use our product</th>\n",
       "    </tr>\n",
       "  </thead>\n",
       "  <tbody>\n",
       "    <tr>\n",
       "      <th>486</th>\n",
       "      <td>Yes</td>\n",
       "      <td>No</td>\n",
       "      <td>No</td>\n",
       "      <td>No</td>\n",
       "      <td>No</td>\n",
       "    </tr>\n",
       "    <tr>\n",
       "      <th>447</th>\n",
       "      <td>Yes</td>\n",
       "      <td>Yes</td>\n",
       "      <td>No</td>\n",
       "      <td>No</td>\n",
       "      <td>Yes</td>\n",
       "    </tr>\n",
       "    <tr>\n",
       "      <th>212</th>\n",
       "      <td>No</td>\n",
       "      <td>Yes</td>\n",
       "      <td>Yes</td>\n",
       "      <td>Yes</td>\n",
       "      <td>Yes</td>\n",
       "    </tr>\n",
       "    <tr>\n",
       "      <th>198</th>\n",
       "      <td>No</td>\n",
       "      <td>Yes</td>\n",
       "      <td>Yes</td>\n",
       "      <td>Yes</td>\n",
       "      <td>Yes</td>\n",
       "    </tr>\n",
       "    <tr>\n",
       "      <th>210</th>\n",
       "      <td>No</td>\n",
       "      <td>Yes</td>\n",
       "      <td>Yes</td>\n",
       "      <td>Yes</td>\n",
       "      <td>Yes</td>\n",
       "    </tr>\n",
       "    <tr>\n",
       "      <th>...</th>\n",
       "      <td>...</td>\n",
       "      <td>...</td>\n",
       "      <td>...</td>\n",
       "      <td>...</td>\n",
       "      <td>...</td>\n",
       "    </tr>\n",
       "    <tr>\n",
       "      <th>146</th>\n",
       "      <td>No</td>\n",
       "      <td>Yes</td>\n",
       "      <td>Yes</td>\n",
       "      <td>Yes</td>\n",
       "      <td>Yes</td>\n",
       "    </tr>\n",
       "    <tr>\n",
       "      <th>200</th>\n",
       "      <td>No</td>\n",
       "      <td>Yes</td>\n",
       "      <td>Yes</td>\n",
       "      <td>Yes</td>\n",
       "      <td>Yes</td>\n",
       "    </tr>\n",
       "    <tr>\n",
       "      <th>420</th>\n",
       "      <td>Yes</td>\n",
       "      <td>Yes</td>\n",
       "      <td>No</td>\n",
       "      <td>No</td>\n",
       "      <td>Yes</td>\n",
       "    </tr>\n",
       "    <tr>\n",
       "      <th>449</th>\n",
       "      <td>Yes</td>\n",
       "      <td>Yes</td>\n",
       "      <td>No</td>\n",
       "      <td>No</td>\n",
       "      <td>Yes</td>\n",
       "    </tr>\n",
       "    <tr>\n",
       "      <th>422</th>\n",
       "      <td>Yes</td>\n",
       "      <td>Yes</td>\n",
       "      <td>No</td>\n",
       "      <td>No</td>\n",
       "      <td>Yes</td>\n",
       "    </tr>\n",
       "  </tbody>\n",
       "</table>\n",
       "<p>500 rows × 5 columns</p>\n",
       "</div>"
      ],
      "text/plain": [
       "    Use shuttle Hard to locate shuttle Get late waiting for shuttle  \\\n",
       "486         Yes                     No                           No   \n",
       "447         Yes                    Yes                           No   \n",
       "212          No                    Yes                          Yes   \n",
       "198          No                    Yes                          Yes   \n",
       "210          No                    Yes                          Yes   \n",
       "..          ...                    ...                          ...   \n",
       "146          No                    Yes                          Yes   \n",
       "200          No                    Yes                          Yes   \n",
       "420         Yes                    Yes                           No   \n",
       "449         Yes                    Yes                           No   \n",
       "422         Yes                    Yes                           No   \n",
       "\n",
       "    Instant payment via wallet Use our product  \n",
       "486                         No              No  \n",
       "447                         No             Yes  \n",
       "212                        Yes             Yes  \n",
       "198                        Yes             Yes  \n",
       "210                        Yes             Yes  \n",
       "..                         ...             ...  \n",
       "146                        Yes             Yes  \n",
       "200                        Yes             Yes  \n",
       "420                         No             Yes  \n",
       "449                         No             Yes  \n",
       "422                         No             Yes  \n",
       "\n",
       "[500 rows x 5 columns]"
      ]
     },
     "execution_count": 180,
     "metadata": {},
     "output_type": "execute_result"
    }
   ],
   "source": [
    "df=df.sample(frac=1)\n",
    "df"
   ]
  },
  {
   "cell_type": "code",
   "execution_count": 181,
   "metadata": {},
   "outputs": [],
   "source": [
    "df.to_csv(\"lsm_survey.csv\")"
   ]
  },
  {
   "cell_type": "code",
   "execution_count": 182,
   "metadata": {},
   "outputs": [
    {
     "data": {
      "text/html": [
       "<div>\n",
       "<style scoped>\n",
       "    .dataframe tbody tr th:only-of-type {\n",
       "        vertical-align: middle;\n",
       "    }\n",
       "\n",
       "    .dataframe tbody tr th {\n",
       "        vertical-align: top;\n",
       "    }\n",
       "\n",
       "    .dataframe thead th {\n",
       "        text-align: right;\n",
       "    }\n",
       "</style>\n",
       "<table border=\"1\" class=\"dataframe\">\n",
       "  <thead>\n",
       "    <tr style=\"text-align: right;\">\n",
       "      <th></th>\n",
       "      <th>Unnamed: 0</th>\n",
       "      <th>Use shuttle</th>\n",
       "      <th>Hard to locate shuttle</th>\n",
       "      <th>Get late waiting for shuttle</th>\n",
       "      <th>Instant payment via wallet</th>\n",
       "      <th>Use our product</th>\n",
       "    </tr>\n",
       "  </thead>\n",
       "  <tbody>\n",
       "    <tr>\n",
       "      <th>0</th>\n",
       "      <td>486</td>\n",
       "      <td>Yes</td>\n",
       "      <td>No</td>\n",
       "      <td>No</td>\n",
       "      <td>No</td>\n",
       "      <td>No</td>\n",
       "    </tr>\n",
       "    <tr>\n",
       "      <th>1</th>\n",
       "      <td>447</td>\n",
       "      <td>Yes</td>\n",
       "      <td>Yes</td>\n",
       "      <td>No</td>\n",
       "      <td>No</td>\n",
       "      <td>Yes</td>\n",
       "    </tr>\n",
       "    <tr>\n",
       "      <th>2</th>\n",
       "      <td>212</td>\n",
       "      <td>No</td>\n",
       "      <td>Yes</td>\n",
       "      <td>Yes</td>\n",
       "      <td>Yes</td>\n",
       "      <td>Yes</td>\n",
       "    </tr>\n",
       "    <tr>\n",
       "      <th>3</th>\n",
       "      <td>198</td>\n",
       "      <td>No</td>\n",
       "      <td>Yes</td>\n",
       "      <td>Yes</td>\n",
       "      <td>Yes</td>\n",
       "      <td>Yes</td>\n",
       "    </tr>\n",
       "    <tr>\n",
       "      <th>4</th>\n",
       "      <td>210</td>\n",
       "      <td>No</td>\n",
       "      <td>Yes</td>\n",
       "      <td>Yes</td>\n",
       "      <td>Yes</td>\n",
       "      <td>Yes</td>\n",
       "    </tr>\n",
       "  </tbody>\n",
       "</table>\n",
       "</div>"
      ],
      "text/plain": [
       "   Unnamed: 0 Use shuttle Hard to locate shuttle Get late waiting for shuttle  \\\n",
       "0         486         Yes                     No                           No   \n",
       "1         447         Yes                    Yes                           No   \n",
       "2         212          No                    Yes                          Yes   \n",
       "3         198          No                    Yes                          Yes   \n",
       "4         210          No                    Yes                          Yes   \n",
       "\n",
       "  Instant payment via wallet Use our product  \n",
       "0                         No              No  \n",
       "1                         No             Yes  \n",
       "2                        Yes             Yes  \n",
       "3                        Yes             Yes  \n",
       "4                        Yes             Yes  "
      ]
     },
     "execution_count": 182,
     "metadata": {},
     "output_type": "execute_result"
    }
   ],
   "source": [
    "df=pd.read_csv(\"lsm_survey.csv\")\n",
    "df.head()"
   ]
  },
  {
   "cell_type": "code",
   "execution_count": 183,
   "metadata": {},
   "outputs": [
    {
     "data": {
      "text/html": [
       "<div>\n",
       "<style scoped>\n",
       "    .dataframe tbody tr th:only-of-type {\n",
       "        vertical-align: middle;\n",
       "    }\n",
       "\n",
       "    .dataframe tbody tr th {\n",
       "        vertical-align: top;\n",
       "    }\n",
       "\n",
       "    .dataframe thead th {\n",
       "        text-align: right;\n",
       "    }\n",
       "</style>\n",
       "<table border=\"1\" class=\"dataframe\">\n",
       "  <thead>\n",
       "    <tr style=\"text-align: right;\">\n",
       "      <th></th>\n",
       "      <th>Unnamed: 0</th>\n",
       "      <th>Use shuttle</th>\n",
       "      <th>Hard to locate shuttle</th>\n",
       "      <th>Get late waiting for shuttle</th>\n",
       "      <th>Instant payment via wallet</th>\n",
       "      <th>Use our product</th>\n",
       "    </tr>\n",
       "  </thead>\n",
       "  <tbody>\n",
       "    <tr>\n",
       "      <th>0</th>\n",
       "      <td>486</td>\n",
       "      <td>1</td>\n",
       "      <td>0</td>\n",
       "      <td>0</td>\n",
       "      <td>0</td>\n",
       "      <td>0</td>\n",
       "    </tr>\n",
       "    <tr>\n",
       "      <th>1</th>\n",
       "      <td>447</td>\n",
       "      <td>1</td>\n",
       "      <td>1</td>\n",
       "      <td>0</td>\n",
       "      <td>0</td>\n",
       "      <td>1</td>\n",
       "    </tr>\n",
       "    <tr>\n",
       "      <th>2</th>\n",
       "      <td>212</td>\n",
       "      <td>0</td>\n",
       "      <td>1</td>\n",
       "      <td>1</td>\n",
       "      <td>1</td>\n",
       "      <td>1</td>\n",
       "    </tr>\n",
       "    <tr>\n",
       "      <th>3</th>\n",
       "      <td>198</td>\n",
       "      <td>0</td>\n",
       "      <td>1</td>\n",
       "      <td>1</td>\n",
       "      <td>1</td>\n",
       "      <td>1</td>\n",
       "    </tr>\n",
       "    <tr>\n",
       "      <th>4</th>\n",
       "      <td>210</td>\n",
       "      <td>0</td>\n",
       "      <td>1</td>\n",
       "      <td>1</td>\n",
       "      <td>1</td>\n",
       "      <td>1</td>\n",
       "    </tr>\n",
       "  </tbody>\n",
       "</table>\n",
       "</div>"
      ],
      "text/plain": [
       "   Unnamed: 0  Use shuttle  Hard to locate shuttle  \\\n",
       "0         486            1                       0   \n",
       "1         447            1                       1   \n",
       "2         212            0                       1   \n",
       "3         198            0                       1   \n",
       "4         210            0                       1   \n",
       "\n",
       "   Get late waiting for shuttle  Instant payment via wallet  Use our product  \n",
       "0                             0                           0                0  \n",
       "1                             0                           0                1  \n",
       "2                             1                           1                1  \n",
       "3                             1                           1                1  \n",
       "4                             1                           1                1  "
      ]
     },
     "execution_count": 183,
     "metadata": {},
     "output_type": "execute_result"
    }
   ],
   "source": [
    "df.replace([\"Yes\", \"No\"], [1, 0], inplace=True)\n",
    "df.head()"
   ]
  },
  {
   "cell_type": "code",
   "execution_count": 184,
   "metadata": {},
   "outputs": [],
   "source": [
    "use1=df[\"Use shuttle\"].value_counts()[1]\n",
    "use0=df[\"Use shuttle\"].value_counts()[0]\n",
    "data=[use1, use0]"
   ]
  },
  {
   "cell_type": "code",
   "execution_count": 185,
   "metadata": {},
   "outputs": [
    {
     "data": {
      "image/png": "[encoded data removed]",
      "text/plain": [
       "<Figure size 640x480 with 1 Axes>"
      ]
     },
     "metadata": {},
     "output_type": "display_data"
    }
   ],
   "source": [
    "# Setting labels for items in Chart\n",
    "labels = ['Yes', 'No']\n",
    "\n",
    "# colors\n",
    "colors = ['#FFFF00', '#FFA500']\n",
    "\n",
    "# explosion\n",
    "explode = (0.05, 0.05)\n",
    "\n",
    "# Pie Chart\n",
    "plt.pie(data, colors=colors, labels=labels,\n",
    "\t\tautopct='%1.1f%%', pctdistance=0.85,\n",
    "\t\texplode=explode)\n",
    "\n",
    "# draw circle\n",
    "centre_circle = plt.Circle((0, 0), 0.70, fc='white')\n",
    "fig = plt.gcf()\n",
    "\n",
    "# Adding Circle in Pie chart\n",
    "fig.gca().add_artist(centre_circle)\n",
    "\n",
    "# Adding Title of chart\n",
    "plt.title('Respondent uses shuttle?')\n",
    "\n",
    "# Add Legends\n",
    "plt.legend(labels, loc=\"upper right\", title=\"Response\")\n",
    "\n",
    "# Displaying Chart\n",
    "plt.show()\n"
   ]
  },
  {
   "cell_type": "code",
   "execution_count": 186,
   "metadata": {},
   "outputs": [],
   "source": [
    "use1=df[\"Hard to locate shuttle\"].value_counts()[1]\n",
    "use0=df[\"Hard to locate shuttle\"].value_counts()[0]\n",
    "data=[use1, use0]"
   ]
  },
  {
   "cell_type": "code",
   "execution_count": 187,
   "metadata": {},
   "outputs": [
    {
     "data": {
      "image/png": "[encoded data removed]",
      "text/plain": [
       "<Figure size 640x480 with 1 Axes>"
      ]
     },
     "metadata": {},
     "output_type": "display_data"
    }
   ],
   "source": [
    "# Setting labels for items in Chart\n",
    "labels = ['Yes', 'No']\n",
    "\n",
    "# colors\n",
    "colors = ['#FFFF00', '#FFA500']\n",
    "\n",
    "# explosion\n",
    "explode = (0.05, 0.05)\n",
    "\n",
    "# Pie Chart\n",
    "plt.pie(data, colors=colors, labels=labels,\n",
    "\t\tautopct='%1.1f%%', pctdistance=0.85,\n",
    "\t\texplode=explode)\n",
    "\n",
    "# draw circle\n",
    "centre_circle = plt.Circle((0, 0), 0.70, fc='white')\n",
    "fig = plt.gcf()\n",
    "\n",
    "# Adding Circle in Pie chart\n",
    "fig.gca().add_artist(centre_circle)\n",
    "\n",
    "# Adding Title of chart\n",
    "plt.title('Is it hard to locate shuttle?')\n",
    "\n",
    "# Add Legends\n",
    "plt.legend(labels, loc=\"upper right\", title=\"Response\")\n",
    "\n",
    "# Displaying Chart\n",
    "plt.show()\n"
   ]
  },
  {
   "cell_type": "code",
   "execution_count": 188,
   "metadata": {},
   "outputs": [],
   "source": [
    "use1=df[\"Get late waiting for shuttle\"].value_counts()[1]\n",
    "use0=df[\"Get late waiting for shuttle\"].value_counts()[0]\n",
    "data=[use1, use0]"
   ]
  },
  {
   "cell_type": "code",
   "execution_count": 189,
   "metadata": {},
   "outputs": [
    {
     "data": {
      "image/png": "[encoded data removed]",
      "text/plain": [
       "<Figure size 640x480 with 1 Axes>"
      ]
     },
     "metadata": {},
     "output_type": "display_data"
    }
   ],
   "source": [
    "# Setting labels for items in Chart\n",
    "labels = ['Yes', 'No']\n",
    "\n",
    "# colors\n",
    "colors = ['#FFFF00', '#FFA500']\n",
    "\n",
    "# explosion\n",
    "explode = (0.05, 0.05)\n",
    "\n",
    "# Pie Chart\n",
    "plt.pie(data, colors=colors, labels=labels,\n",
    "\t\tautopct='%1.1f%%', pctdistance=0.85,\n",
    "\t\texplode=explode)\n",
    "\n",
    "# draw circle\n",
    "centre_circle = plt.Circle((0, 0), 0.70, fc='white')\n",
    "fig = plt.gcf()\n",
    "\n",
    "# Adding Circle in Pie chart\n",
    "fig.gca().add_artist(centre_circle)\n",
    "\n",
    "# Adding Title of chart\n",
    "plt.title('Get late waiting for shuttle?')\n",
    "\n",
    "# Add Legends\n",
    "plt.legend(labels, loc=\"upper right\", title=\"Response\")\n",
    "\n",
    "# Displaying Chart\n",
    "plt.show()\n"
   ]
  },
  {
   "cell_type": "code",
   "execution_count": 190,
   "metadata": {},
   "outputs": [],
   "source": [
    "use1=df[\"Instant payment via wallet\"].value_counts()[1]\n",
    "use0=df[\"Instant payment via wallet\"].value_counts()[0]\n",
    "data=[use1, use0]"
   ]
  },
  {
   "cell_type": "code",
   "execution_count": 191,
   "metadata": {},
   "outputs": [
    {
     "data": {
      "image/png": "[encoded data removed]",
      "text/plain": [
       "<Figure size 640x480 with 1 Axes>"
      ]
     },
     "metadata": {},
     "output_type": "display_data"
    }
   ],
   "source": [
    "# Setting labels for items in Chart\n",
    "labels = ['Yes', 'No']\n",
    "\n",
    "# colors\n",
    "colors = ['#FFFF00', '#FFA500']\n",
    "\n",
    "# explosion\n",
    "explode = (0.05, 0.05)\n",
    "\n",
    "# Pie Chart\n",
    "plt.pie(data, colors=colors, labels=labels,\n",
    "\t\tautopct='%1.1f%%', pctdistance=0.85,\n",
    "\t\texplode=explode)\n",
    "\n",
    "# draw circle\n",
    "centre_circle = plt.Circle((0, 0), 0.70, fc='white')\n",
    "fig = plt.gcf()\n",
    "\n",
    "# Adding Circle in Pie chart\n",
    "fig.gca().add_artist(centre_circle)\n",
    "\n",
    "# Adding Title of chart\n",
    "plt.title('Instant payment system via wallet?')\n",
    "\n",
    "# Add Legends\n",
    "plt.legend(labels, loc=\"upper right\", title=\"Response\")\n",
    "\n",
    "# Displaying Chart\n",
    "plt.show()\n"
   ]
  },
  {
   "cell_type": "code",
   "execution_count": 192,
   "metadata": {},
   "outputs": [],
   "source": [
    "use1=df[\"Use our product\"].value_counts()[1]\n",
    "use0=df[\"Use our product\"].value_counts()[0]\n",
    "data=[use1, use0]"
   ]
  },
  {
   "cell_type": "code",
   "execution_count": 193,
   "metadata": {},
   "outputs": [
    {
     "data": {
      "image/png": "[encoded data removed]",
      "text/plain": [
       "<Figure size 640x480 with 1 Axes>"
      ]
     },
     "metadata": {},
     "output_type": "display_data"
    }
   ],
   "source": [
    "# Setting labels for items in Chart\n",
    "labels = ['Yes', 'No']\n",
    "\n",
    "# colors\n",
    "colors = ['#FFFF00', '#FFA500']\n",
    "\n",
    "# explosion\n",
    "explode = (0.05, 0.05)\n",
    "\n",
    "# Pie Chart\n",
    "plt.pie(data, colors=colors, labels=labels,\n",
    "\t\tautopct='%1.1f%%', pctdistance=0.85,\n",
    "\t\texplode=explode)\n",
    "\n",
    "# draw circle\n",
    "centre_circle = plt.Circle((0, 0), 0.70, fc='white')\n",
    "fig = plt.gcf()\n",
    "\n",
    "# Adding Circle in Pie chart\n",
    "fig.gca().add_artist(centre_circle)\n",
    "\n",
    "# Adding Title of chart\n",
    "plt.title('Whether respondent will use our product?')\n",
    "\n",
    "# Add Legends\n",
    "plt.legend(labels, loc=\"upper right\", title=\"Response\")\n",
    "\n",
    "# Displaying Chart\n",
    "plt.show()\n"
   ]
  }
 ],
 "metadata": {
  "kernelspec": {
   "display_name": "Python 3",
   "language": "python",
   "name": "python3"
  },
  "language_info": {
   "codemirror_mode": {
    "name": "ipython",
    "version": 3
   },
   "file_extension": ".py",
   "mimetype": "text/x-python",
   "name": "python",
   "nbconvert_exporter": "python",
   "pygments_lexer": "ipython3",
   "version": "3.10.6"
  },
  "orig_nbformat": 4
 },
 "nbformat": 4,
 "nbformat_minor": 2
}
